{
 "metadata": {
  "language_info": {
   "codemirror_mode": {
    "name": "ipython",
    "version": 3
   },
   "file_extension": ".py",
   "mimetype": "text/x-python",
   "name": "python",
   "nbconvert_exporter": "python",
   "pygments_lexer": "ipython3",
   "version": "3.8.5-final"
  },
  "orig_nbformat": 2,
  "kernelspec": {
   "name": "python3",
   "display_name": "Python 3"
  }
 },
 "nbformat": 4,
 "nbformat_minor": 2,
 "cells": [
  {
   "cell_type": "code",
   "execution_count": 5,
   "metadata": {},
   "outputs": [],
   "source": [
    "import cv2\n",
    "import numpy as np\n",
    "\n",
    "vid = cv2.VideoCapture(0) \n",
    "\n",
    "while(True):\n",
    "\n",
    "    ret, frame = vid.read()\n",
    "    cv2.imshow(\"Preview\",frame)\n",
    "    frame = cv2.resize(frame, (480,480))\n",
    "\n",
    "    kernelx = np.array([[-1,-1,-1],\n",
    "                        [-1,8,-1],\n",
    "                        [-1,-1,-1]])\n",
    "\n",
    "    kernely = np.array([[1,1,1],\n",
    "                        [0,0,0],\n",
    "                        [-1,-1,-1]])\n",
    "    \n",
    "    cv2.GaussianBlur(frame)\n",
    "    \n",
    "    frame = cv2.filter2D(frame, -1, kernelx)\n",
    "    #frame += cv2.filter2D(frame, -1, kernely)\n",
    "\n",
    "    frame = cv2.resize(frame, (640,480))\n",
    "\n",
    "    cv2.imshow(\"Prewitt\", frame)\n",
    "\n",
    "    if cv2.waitKey(1) & 0xFF == ord('q'): \n",
    "        break\n",
    "\n",
    "vid.release() \n",
    "cv2.destroyAllWindows() "
   ]
  },
  {
   "cell_type": "code",
   "execution_count": 7,
   "metadata": {},
   "outputs": [],
   "source": [
    "vid.release() \n",
    "cv2.destroyAllWindows() "
   ]
  }
 ]
}